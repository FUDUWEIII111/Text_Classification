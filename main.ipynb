{
 "cells": [
  {
   "cell_type": "code",
   "execution_count": 1,
   "metadata": {},
   "outputs": [
    {
     "name": "stderr",
     "output_type": "stream",
     "text": [
      "[nltk_data] Downloading package punkt to\n",
      "[nltk_data]     C:\\Users\\ADMIN\\AppData\\Roaming\\nltk_data...\n",
      "[nltk_data]   Package punkt is already up-to-date!\n",
      "[nltk_data] Downloading package stopwords to\n",
      "[nltk_data]     C:\\Users\\ADMIN\\AppData\\Roaming\\nltk_data...\n",
      "[nltk_data]   Package stopwords is already up-to-date!\n"
     ]
    }
   ],
   "source": [
    "'''\n",
    "-   nltk.download('punkt'): download the Punkt tokenizer models, which are pre-trained models used \n",
    "    for tokenization (Tokenization is the process of breaking down text into smaller units).\n",
    "'''\n",
    "nltk.download('punkt')\n",
    "\n",
    "\n",
    "'''\n",
    "-   nltk.download('punkt'): download a specific resource from the NLTK (Natural Language Toolkit) library, \n",
    "    namely the \"stopwords\" corpus.\n",
    "-   Stopwords are common words in a language that are often considered unimportant in the context of natural language processing (NLP) tasks,\n",
    "    removing stopwords helps in reducing the noise in the data and focusing on the words that are more meaningful for the specific NLP task. \n",
    "'''\n",
    "nltk.download('stopwords')"
   ]
  },
  {
   "cell_type": "code",
   "execution_count": 2,
   "metadata": {},
   "outputs": [
    {
     "name": "stderr",
     "output_type": "stream",
     "text": [
      "Downloading...\n",
      "From: https://drive.google.com/uc?id=1N7rk-kfnDFIGMeX0ROVTjKh71gcgx-7R\n",
      "To: d:\\IT_stuffs\\Project\\Python\\Text_Classification\\2cls_spam_text_cls.csv\n",
      "\n",
      "  0%|          | 0.00/486k [00:00<?, ?B/s]\n",
      "100%|██████████| 486k/486k [00:00<00:00, 3.00MB/s]\n",
      "100%|██████████| 486k/486k [00:00<00:00, 2.98MB/s]\n"
     ]
    }
   ],
   "source": [
    "'''\n",
    "-   Download the dataset\n",
    "'''\n",
    "\n",
    "!gdown 1N7rk-kfnDFIGMeX0ROVTjKh71gcgx-7R"
   ]
  },
  {
   "cell_type": "code",
   "execution_count": 5,
   "metadata": {},
   "outputs": [],
   "source": [
    "from sklearn.preprocessing import LabelEncoder\n",
    "from sklearn.metrics import accuracy_score\n",
    "from sklearn.naive_bayes import GaussianNB\n",
    "from sklearn.model_selection import train_test_split\n",
    "import matplotlib.pyplot as plt\n",
    "import numpy as np\n",
    "import pandas as pd\n",
    "import string\n",
    "import nltk\n"
   ]
  },
  {
   "cell_type": "code",
   "execution_count": 13,
   "metadata": {},
   "outputs": [],
   "source": [
    "def lowercase(text):\n",
    "\n",
    "    return text.lower()\n",
    "\n",
    "\n",
    "def punctuation_removal(text):\n",
    "    translator = str.maketrans('', '', string.punctuation)\n",
    "\n",
    "    return text.translate(translator)\n",
    "\n",
    "\n",
    "def tokenize(text):\n",
    "\n",
    "    return nltk.word_tokenize(text)\n",
    "\n",
    "\n",
    "def remove_stopword(tokens):\n",
    "    stop_words = nltk.corpus.stopwords.words('english')\n",
    "\n",
    "    return [token for token in tokens if token not in stop_words]\n",
    "\n",
    "\n",
    "def stemming(tokens):\n",
    "    stemmer = nltk.PorterStemmer()\n",
    "\n",
    "    return [stemmer.stem(token) for token in tokens]\n",
    "\n",
    "\n",
    "def preprocess_text(text):\n",
    "    text = lowercase(text)\n",
    "    text = punctuation_removal(text)\n",
    "    tokens = tokenize(text)\n",
    "    tokens = remove_stopword(tokens)\n",
    "    tokens = stemming(tokens)\n",
    "\n",
    "    return tokens\n",
    "\n",
    "\n",
    "def create_dictionary(messages):\n",
    "    dictionary = []\n",
    "    for tokens in messages:\n",
    "        for token in tokens:\n",
    "            if token not in dictionary:\n",
    "                dictionary.append(token)\n",
    "\n",
    "    return dictionary\n",
    "\n",
    "\n",
    "def create_features(tokens, dictionary):\n",
    "    features = np.zeros(len(dictionary))\n",
    "\n",
    "    for token in tokens:\n",
    "        if token in dictionary:\n",
    "            features[dictionary.index(token)] += 1\n",
    "\n",
    "    return features"
   ]
  },
  {
   "cell_type": "code",
   "execution_count": 14,
   "metadata": {},
   "outputs": [],
   "source": [
    "data_path = '2cls_spam_text_cls.csv'\n",
    "df = pd.read_csv(data_path)\n",
    "messages = df['Message'].values.tolist()\n",
    "labels = df['Category'].values.tolist()\n",
    "messages = [preprocess_text(message) for message in messages]\n",
    "dictionary = create_dictionary(messages)\n",
    "X = np.array([create_features(tokens, dictionary) for tokens in messages])\n",
    "le = LabelEncoder()\n",
    "y = le.fit_transform(labels)"
   ]
  },
  {
   "cell_type": "code",
   "execution_count": 15,
   "metadata": {},
   "outputs": [],
   "source": [
    "VAL_size = 0.2\n",
    "TEST_SIZE = 0.125\n",
    "SEED = 0\n",
    "\n",
    "X_train, X_val, y_train, y_val = train_test_split(X, y,\n",
    "                                                  test_size=VAL_size,\n",
    "                                                  shuffle=True,\n",
    "                                                  random_state=SEED)\n",
    "\n",
    "X_train, X_test, y_train, y_test = train_test_split(X_train, y_train,\n",
    "                                                    test_size = TEST_SIZE,\n",
    "                                                    shuffle =True,\n",
    "                                                    random_state = SEED)"
   ]
  },
  {
   "cell_type": "code",
   "execution_count": 16,
   "metadata": {},
   "outputs": [
    {
     "name": "stdout",
     "output_type": "stream",
     "text": [
      "Start training ... \n",
      "Training completed!\n"
     ]
    }
   ],
   "source": [
    "model = GaussianNB()\n",
    "print('Start training ... ')\n",
    "model = model.fit(X_train, y_train)\n",
    "print('Training completed!')"
   ]
  },
  {
   "cell_type": "code",
   "execution_count": 17,
   "metadata": {},
   "outputs": [
    {
     "name": "stdout",
     "output_type": "stream",
     "text": [
      "Val accuracy: 0.8816143497757848\n",
      "Test accuracy: 0.8602150537634409\n"
     ]
    }
   ],
   "source": [
    "y_val_pred = model.predict(X_val)\n",
    "y_test_pred = model.predict(X_test)\n",
    "\n",
    "val_accuracy = accuracy_score(y_val, y_val_pred)\n",
    "test_accuracy = accuracy_score(y_test, y_test_pred)\n",
    "print(f'Val accuracy: {val_accuracy}')\n",
    "print(f'Test accuracy: {test_accuracy}')"
   ]
  },
  {
   "cell_type": "code",
   "execution_count": 18,
   "metadata": {},
   "outputs": [],
   "source": [
    "def predict(text, model, dictionary):\n",
    "    processed_text = preprocess_text(text)\n",
    "    features = create_features(text, dictionary)\n",
    "    features = np.array(features).reshape(1, -1)\n",
    "    prediction = model.predict(features)\n",
    "    prediction_cls = le.inverse_transform(prediction)[0]\n",
    "\n",
    "    return prediction_cls"
   ]
  },
  {
   "cell_type": "code",
   "execution_count": 19,
   "metadata": {},
   "outputs": [
    {
     "name": "stdout",
     "output_type": "stream",
     "text": [
      "Prediction: ham\n"
     ]
    }
   ],
   "source": [
    "text_input = 'I am actually thinking a way of doing something useful'\n",
    "prediction_cls = predict(text_input, model, dictionary)\n",
    "print(f'Prediction: {prediction_cls}')"
   ]
  }
 ],
 "metadata": {
  "kernelspec": {
   "display_name": "proj-text_classification-3.11",
   "language": "python",
   "name": "python3"
  },
  "language_info": {
   "codemirror_mode": {
    "name": "ipython",
    "version": 3
   },
   "file_extension": ".py",
   "mimetype": "text/x-python",
   "name": "python",
   "nbconvert_exporter": "python",
   "pygments_lexer": "ipython3",
   "version": "3.11.9"
  }
 },
 "nbformat": 4,
 "nbformat_minor": 2
}
